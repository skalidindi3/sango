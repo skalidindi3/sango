{
 "cells": [
  {
   "cell_type": "markdown",
   "metadata": {},
   "source": [
    "# Imports"
   ]
  },
  {
   "cell_type": "code",
   "execution_count": 1,
   "metadata": {},
   "outputs": [],
   "source": [
    "import math\n",
    "import matplotlib as mpl\n",
    "import numpy as np\n",
    "from matplotlib import pyplot as plt\n",
    "from scipy import signal\n",
    "mpl.rcParams.update(mpl.rcParamsDefault) # reset matplotlib theming\n",
    "plt.style.use(\"dark_background\")"
   ]
  },
  {
   "cell_type": "code",
   "execution_count": 2,
   "metadata": {},
   "outputs": [],
   "source": [
    "def ltiInfo(h, evaluate_extra=False):\n",
    "    # zeros, poles, DC gain\n",
    "    zpk = h.to_zpk()\n",
    "    print(\"zeros: \", \", \".join(map(lambda z: \"%.3g\" % z, zpk.zeros / (2 * math.pi))))\n",
    "    print(\"poles: \", \", \".join(map(lambda p: \"%.3g\" % p, zpk.poles / (2 * math.pi))))\n",
    "\n",
    "    if evaluate_extra:\n",
    "        # evaluate magnitude & phase @ 20/1k/10k/20k Hz\n",
    "        for f in [20, 1e3, 10e3, 20e3]:\n",
    "            w = 2 * math.pi * f\n",
    "            _, mag, phase = h.bode([w])\n",
    "            print(\"Magnitude @ %.3g Hz: %.3g [dB]\" % (f, mag))\n",
    "            print(\"Phase @ %.3g Hz: %.2g [deg]\" % (f, phase))"
   ]
  },
  {
   "cell_type": "code",
   "execution_count": 3,
   "metadata": {},
   "outputs": [],
   "source": [
    "def highPassyLTI(R, C):\n",
    "    numerator = [R*C, 0]\n",
    "    denominator = [R*C, 1]\n",
    "    return signal.lti(numerator, denominator)"
   ]
  },
  {
   "cell_type": "markdown",
   "metadata": {},
   "source": [
    "# Default Config Simulations"
   ]
  },
  {
   "cell_type": "code",
   "execution_count": 4,
   "metadata": {},
   "outputs": [
    {
     "name": "stdout",
     "output_type": "stream",
     "text": [
      "zeros:  0\n",
      "poles:  -1.8\n",
      "Magnitude @ 20 Hz: -0.035 [dB]\n",
      "Phase @ 20 Hz: 5.1 [deg]\n",
      "Magnitude @ 1e+03 Hz: -1.41e-05 [dB]\n",
      "Phase @ 1e+03 Hz: 0.1 [deg]\n",
      "Magnitude @ 1e+04 Hz: -1.41e-07 [dB]\n",
      "Phase @ 1e+04 Hz: 0.01 [deg]\n",
      "Magnitude @ 2e+04 Hz: -3.52e-08 [dB]\n",
      "Phase @ 2e+04 Hz: 0.0052 [deg]\n"
     ]
    }
   ],
   "source": [
    "outputFilter = highPassyLTI(R = 40.2e3, C = 2.2e-6)\n",
    "ltiInfo(outputFilter, evaluate_extra=True)"
   ]
  },
  {
   "cell_type": "markdown",
   "metadata": {},
   "source": [
    "# Modified Config Simulations"
   ]
  },
  {
   "cell_type": "code",
   "execution_count": 5,
   "metadata": {},
   "outputs": [
    {
     "name": "stdout",
     "output_type": "stream",
     "text": [
      "zeros:  0\n",
      "poles:  -0.581\n",
      "Magnitude @ 20 Hz: -0.00366 [dB]\n",
      "Phase @ 20 Hz: 1.7 [deg]\n",
      "Magnitude @ 1e+03 Hz: -1.47e-06 [dB]\n",
      "Phase @ 1e+03 Hz: 0.033 [deg]\n",
      "Magnitude @ 1e+04 Hz: -1.47e-08 [dB]\n",
      "Phase @ 1e+04 Hz: 0.0033 [deg]\n",
      "Magnitude @ 2e+04 Hz: -3.66e-09 [dB]\n",
      "Phase @ 2e+04 Hz: 0.0017 [deg]\n"
     ]
    }
   ],
   "source": [
    "outputFilter = highPassyLTI(R = 274e3, C = 1e-6)\n",
    "ltiInfo(outputFilter, evaluate_extra=True)"
   ]
  },
  {
   "cell_type": "code",
   "execution_count": null,
   "metadata": {},
   "outputs": [],
   "source": []
  }
 ],
 "metadata": {
  "kernelspec": {
   "display_name": "Python 3",
   "language": "python",
   "name": "python3"
  },
  "language_info": {
   "codemirror_mode": {
    "name": "ipython",
    "version": 3
   },
   "file_extension": ".py",
   "mimetype": "text/x-python",
   "name": "python",
   "nbconvert_exporter": "python",
   "pygments_lexer": "ipython3",
   "version": "3.7.4"
  }
 },
 "nbformat": 4,
 "nbformat_minor": 2
}
